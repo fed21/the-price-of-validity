{
  "nbformat": 4,
  "nbformat_minor": 0,
  "metadata": {
    "colab": {
      "provenance": []
    },
    "kernelspec": {
      "name": "python3",
      "display_name": "Python 3"
    },
    "language_info": {
      "name": "python"
    }
  },
  "cells": [
    {
      "cell_type": "code",
      "execution_count": 1,
      "metadata": {
        "colab": {
          "base_uri": "https://localhost:8080/",
          "height": 765
        },
        "id": "vUChM6FzlOrC",
        "outputId": "ba98797f-f8c0-450b-fb83-1f915092e29e"
      },
      "outputs": [
        {
          "output_type": "stream",
          "name": "stdout",
          "text": [
            "Looking in indexes: https://pypi.org/simple, https://us-python.pkg.dev/colab-wheels/public/simple/\n",
            "Collecting pika\n",
            "  Downloading pika-1.3.2-py3-none-any.whl (155 kB)\n",
            "\u001b[2K     \u001b[90m━━━━━━━━━━━━━━━━━━━━━━━━━━━━━━━━━━━━━━━\u001b[0m \u001b[32m155.4/155.4 kB\u001b[0m \u001b[31m4.7 MB/s\u001b[0m eta \u001b[36m0:00:00\u001b[0m\n",
            "\u001b[?25hInstalling collected packages: pika\n",
            "Successfully installed pika-1.3.2\n"
          ]
        },
        {
          "output_type": "stream",
          "name": "stderr",
          "text": [
            "ERROR:pika.adapters.utils.io_services_utils:Socket failed to connect: <socket.socket fd=46, family=AddressFamily.AF_INET, type=SocketKind.SOCK_STREAM, proto=6, laddr=('127.0.0.1', 59396)>; error=111 (Connection refused)\n",
            "ERROR:pika.adapters.utils.connection_workflow:TCP Connection attempt failed: ConnectionRefusedError(111, 'Connection refused'); dest=(<AddressFamily.AF_INET: 2>, <SocketKind.SOCK_STREAM: 1>, 6, '', ('127.0.0.1', 5672))\n",
            "ERROR:pika.adapters.utils.connection_workflow:AMQPConnector - reporting failure: AMQPConnectorSocketConnectError: ConnectionRefusedError(111, 'Connection refused')\n",
            "ERROR:pika.adapters.utils.io_services_utils:<socket.socket fd=46, family=AddressFamily.AF_INET6, type=SocketKind.SOCK_STREAM, proto=6, laddr=('::', 0, 0, 0)>.connect(('::1', 5672, 0, 0)) failed: OSError(99, 'Cannot assign requested address')\n",
            "ERROR:pika.adapters.utils.connection_workflow:TCP Connection attempt failed: OSError(99, 'Cannot assign requested address'); dest=(<AddressFamily.AF_INET6: 10>, <SocketKind.SOCK_STREAM: 1>, 6, '', ('::1', 5672, 0, 0))\n",
            "ERROR:pika.adapters.utils.connection_workflow:AMQPConnector - reporting failure: AMQPConnectorSocketConnectError: OSError(99, 'Cannot assign requested address')\n",
            "ERROR:pika.adapters.utils.connection_workflow:AMQP connection workflow failed: AMQPConnectionWorkflowFailed: 2 exceptions in all; last exception - AMQPConnectorSocketConnectError: OSError(99, 'Cannot assign requested address'); first exception - AMQPConnectorSocketConnectError: ConnectionRefusedError(111, 'Connection refused').\n",
            "ERROR:pika.adapters.utils.connection_workflow:AMQPConnectionWorkflow - reporting failure: AMQPConnectionWorkflowFailed: 2 exceptions in all; last exception - AMQPConnectorSocketConnectError: OSError(99, 'Cannot assign requested address'); first exception - AMQPConnectorSocketConnectError: ConnectionRefusedError(111, 'Connection refused')\n",
            "ERROR:pika.adapters.blocking_connection:Connection workflow failed: AMQPConnectionWorkflowFailed: 2 exceptions in all; last exception - AMQPConnectorSocketConnectError: OSError(99, 'Cannot assign requested address'); first exception - AMQPConnectorSocketConnectError: ConnectionRefusedError(111, 'Connection refused')\n",
            "ERROR:pika.adapters.blocking_connection:Error in _create_connection().\n",
            "Traceback (most recent call last):\n",
            "  File \"/usr/local/lib/python3.10/dist-packages/pika/adapters/blocking_connection.py\", line 451, in _create_connection\n",
            "    raise self._reap_last_connection_workflow_error(error)\n",
            "pika.exceptions.AMQPConnectionError\n"
          ]
        },
        {
          "output_type": "error",
          "ename": "AMQPConnectionError",
          "evalue": "ignored",
          "traceback": [
            "\u001b[0;31m---------------------------------------------------------------------------\u001b[0m",
            "\u001b[0;31mAMQPConnectionError\u001b[0m                       Traceback (most recent call last)",
            "\u001b[0;32m<ipython-input-1-d436695a3e97>\u001b[0m in \u001b[0;36m<cell line: 66>\u001b[0;34m()\u001b[0m\n\u001b[1;32m     64\u001b[0m \u001b[0;34m\u001b[0m\u001b[0m\n\u001b[1;32m     65\u001b[0m \u001b[0;31m# Esempio di utilizzo\u001b[0m\u001b[0;34m\u001b[0m\u001b[0;34m\u001b[0m\u001b[0m\n\u001b[0;32m---> 66\u001b[0;31m server = Server(\n\u001b[0m\u001b[1;32m     67\u001b[0m     \u001b[0mserver_id\u001b[0m\u001b[0;34m=\u001b[0m\u001b[0;34m\"server1\"\u001b[0m\u001b[0;34m,\u001b[0m\u001b[0;34m\u001b[0m\u001b[0;34m\u001b[0m\u001b[0m\n\u001b[1;32m     68\u001b[0m     \u001b[0mneighbors\u001b[0m\u001b[0;34m=\u001b[0m\u001b[0;34m[\u001b[0m\u001b[0;34m\"server2\"\u001b[0m\u001b[0;34m,\u001b[0m \u001b[0;34m\"server3\"\u001b[0m\u001b[0;34m,\u001b[0m \u001b[0;34m\"server4\"\u001b[0m\u001b[0;34m]\u001b[0m\u001b[0;34m,\u001b[0m\u001b[0;34m\u001b[0m\u001b[0;34m\u001b[0m\u001b[0m\n",
            "\u001b[0;32m<ipython-input-1-d436695a3e97>\u001b[0m in \u001b[0;36m__init__\u001b[0;34m(self, server_id, neighbors, queue, return_node)\u001b[0m\n\u001b[1;32m     16\u001b[0m \u001b[0;34m\u001b[0m\u001b[0m\n\u001b[1;32m     17\u001b[0m         \u001b[0;31m# Connessione a RabbitMQ\u001b[0m\u001b[0;34m\u001b[0m\u001b[0;34m\u001b[0m\u001b[0m\n\u001b[0;32m---> 18\u001b[0;31m         \u001b[0mself\u001b[0m\u001b[0;34m.\u001b[0m\u001b[0mconnection\u001b[0m \u001b[0;34m=\u001b[0m \u001b[0mpika\u001b[0m\u001b[0;34m.\u001b[0m\u001b[0mBlockingConnection\u001b[0m\u001b[0;34m(\u001b[0m\u001b[0mpika\u001b[0m\u001b[0;34m.\u001b[0m\u001b[0mConnectionParameters\u001b[0m\u001b[0;34m(\u001b[0m\u001b[0;34m'localhost'\u001b[0m\u001b[0;34m)\u001b[0m\u001b[0;34m)\u001b[0m\u001b[0;34m\u001b[0m\u001b[0;34m\u001b[0m\u001b[0m\n\u001b[0m\u001b[1;32m     19\u001b[0m         \u001b[0mself\u001b[0m\u001b[0;34m.\u001b[0m\u001b[0mchannel\u001b[0m \u001b[0;34m=\u001b[0m \u001b[0mself\u001b[0m\u001b[0;34m.\u001b[0m\u001b[0mconnection\u001b[0m\u001b[0;34m.\u001b[0m\u001b[0mchannel\u001b[0m\u001b[0;34m(\u001b[0m\u001b[0;34m)\u001b[0m\u001b[0;34m\u001b[0m\u001b[0;34m\u001b[0m\u001b[0m\n\u001b[1;32m     20\u001b[0m         \u001b[0mself\u001b[0m\u001b[0;34m.\u001b[0m\u001b[0mchannel\u001b[0m\u001b[0;34m.\u001b[0m\u001b[0mqueue_declare\u001b[0m\u001b[0;34m(\u001b[0m\u001b[0mqueue\u001b[0m\u001b[0;34m=\u001b[0m\u001b[0mself\u001b[0m\u001b[0;34m.\u001b[0m\u001b[0mqueue\u001b[0m\u001b[0;34m)\u001b[0m\u001b[0;34m\u001b[0m\u001b[0;34m\u001b[0m\u001b[0m\n",
            "\u001b[0;32m/usr/local/lib/python3.10/dist-packages/pika/adapters/blocking_connection.py\u001b[0m in \u001b[0;36m__init__\u001b[0;34m(self, parameters, _impl_class)\u001b[0m\n\u001b[1;32m    358\u001b[0m         \u001b[0;31m# Perform connection workflow\u001b[0m\u001b[0;34m\u001b[0m\u001b[0;34m\u001b[0m\u001b[0m\n\u001b[1;32m    359\u001b[0m         \u001b[0mself\u001b[0m\u001b[0;34m.\u001b[0m\u001b[0m_impl\u001b[0m \u001b[0;34m=\u001b[0m \u001b[0;32mNone\u001b[0m  \u001b[0;31m# so that attribute is created in case below raises\u001b[0m\u001b[0;34m\u001b[0m\u001b[0;34m\u001b[0m\u001b[0m\n\u001b[0;32m--> 360\u001b[0;31m         \u001b[0mself\u001b[0m\u001b[0;34m.\u001b[0m\u001b[0m_impl\u001b[0m \u001b[0;34m=\u001b[0m \u001b[0mself\u001b[0m\u001b[0;34m.\u001b[0m\u001b[0m_create_connection\u001b[0m\u001b[0;34m(\u001b[0m\u001b[0mparameters\u001b[0m\u001b[0;34m,\u001b[0m \u001b[0m_impl_class\u001b[0m\u001b[0;34m)\u001b[0m\u001b[0;34m\u001b[0m\u001b[0;34m\u001b[0m\u001b[0m\n\u001b[0m\u001b[1;32m    361\u001b[0m         \u001b[0mself\u001b[0m\u001b[0;34m.\u001b[0m\u001b[0m_impl\u001b[0m\u001b[0;34m.\u001b[0m\u001b[0madd_on_close_callback\u001b[0m\u001b[0;34m(\u001b[0m\u001b[0mself\u001b[0m\u001b[0;34m.\u001b[0m\u001b[0m_closed_result\u001b[0m\u001b[0;34m.\u001b[0m\u001b[0mset_value_once\u001b[0m\u001b[0;34m)\u001b[0m\u001b[0;34m\u001b[0m\u001b[0;34m\u001b[0m\u001b[0m\n\u001b[1;32m    362\u001b[0m \u001b[0;34m\u001b[0m\u001b[0m\n",
            "\u001b[0;32m/usr/local/lib/python3.10/dist-packages/pika/adapters/blocking_connection.py\u001b[0m in \u001b[0;36m_create_connection\u001b[0;34m(self, configs, impl_class)\u001b[0m\n\u001b[1;32m    449\u001b[0m                 \u001b[0merror\u001b[0m \u001b[0;34m=\u001b[0m \u001b[0mon_cw_done_result\u001b[0m\u001b[0;34m.\u001b[0m\u001b[0mvalue\u001b[0m\u001b[0;34m.\u001b[0m\u001b[0mresult\u001b[0m\u001b[0;34m\u001b[0m\u001b[0;34m\u001b[0m\u001b[0m\n\u001b[1;32m    450\u001b[0m                 \u001b[0mLOGGER\u001b[0m\u001b[0;34m.\u001b[0m\u001b[0merror\u001b[0m\u001b[0;34m(\u001b[0m\u001b[0;34m'Connection workflow failed: %r'\u001b[0m\u001b[0;34m,\u001b[0m \u001b[0merror\u001b[0m\u001b[0;34m)\u001b[0m\u001b[0;34m\u001b[0m\u001b[0;34m\u001b[0m\u001b[0m\n\u001b[0;32m--> 451\u001b[0;31m                 \u001b[0;32mraise\u001b[0m \u001b[0mself\u001b[0m\u001b[0;34m.\u001b[0m\u001b[0m_reap_last_connection_workflow_error\u001b[0m\u001b[0;34m(\u001b[0m\u001b[0merror\u001b[0m\u001b[0;34m)\u001b[0m\u001b[0;34m\u001b[0m\u001b[0;34m\u001b[0m\u001b[0m\n\u001b[0m\u001b[1;32m    452\u001b[0m             \u001b[0;32melse\u001b[0m\u001b[0;34m:\u001b[0m\u001b[0;34m\u001b[0m\u001b[0;34m\u001b[0m\u001b[0m\n\u001b[1;32m    453\u001b[0m                 LOGGER.info('Connection workflow succeeded: %r',\n",
            "\u001b[0;31mAMQPConnectionError\u001b[0m: "
          ]
        }
      ],
      "source": [
        "!pip install pika\n",
        "import random\n",
        "import pika\n",
        "\n",
        "class Server:\n",
        "    def __init__(self, server_id, neighbors, queue, return_node):\n",
        "        self.id = server_id\n",
        "        self.val = random.randint(1, 100)\n",
        "        self.neighbors = neighbors\n",
        "        self.queue = queue\n",
        "        self.return_node = None\n",
        "        self.num_vectors = 8\n",
        "        self.vector_size = 16\n",
        "        self.vectors = self.generate_vectors()\n",
        "        self.active = False\n",
        "\n",
        "        # Connessione a RabbitMQ\n",
        "        self.connection = pika.BlockingConnection(pika.ConnectionParameters('localhost'))\n",
        "        self.channel = self.connection.channel()\n",
        "        self.channel.queue_declare(queue=self.queue)\n",
        "\n",
        "    def generate_vectors(self):\n",
        "        vectors = []\n",
        "        for _ in range(self.num_vectors):\n",
        "            vector = [random.randint(0, 1) for _ in range(self.vector_size)]\n",
        "            vectors.append(vector)\n",
        "        return vectors\n",
        "\n",
        "    def activate(self):\n",
        "        self.active = True\n",
        "\n",
        "    def deactivate(self):\n",
        "        self.active = False\n",
        "\n",
        "    def process_message(self, ch, method, properties, body):\n",
        "        # Logica per il processo del messaggio ricevuto\n",
        "        message_parts = body.decode().split('-')\n",
        "\n",
        "        # Estrazione dei componenti del messaggio\n",
        "        message_type = message_parts[0]\n",
        "        value = message_parts[1]\n",
        "        sender = message_parts[2]\n",
        "\n",
        "        if message_type=='broadcast':\n",
        "          if self.active == False:\n",
        "            self.return_node = sender\n",
        "            for node_dest in self.neighbors:\n",
        "              msg = self.send('broadcast',self.val,node_dest)\n",
        "            self.active=True\n",
        "            self.send('convergecast',self.val,self.return_node)\n",
        "        else:\n",
        "          # self.val=self.val||value OPERAZIONE DA ESEGUIRE\n",
        "          self.send('convergecast',self.val,self.return_node)\n",
        "\n",
        "\n",
        "    def send_message(self, message_type, value, destination):\n",
        "        message = f\"{message_type}-{value}-{self.id}\"\n",
        "        self.channel.basic_publish(\n",
        "            exchange='',\n",
        "            routing_key=destination,\n",
        "            body=message\n",
        "        )\n",
        "        print(f\"Server {self.id} ha inviato il messaggio a {destination}: {message}\")\n",
        "\n",
        "# Esempio di utilizzo\n",
        "server = Server(\n",
        "    server_id=\"server1\",\n",
        "    neighbors=[\"server2\", \"server3\", \"server4\"],\n",
        "    queue=\"my-queue\",\n",
        "    return_node=\"return-node\"\n",
        ")\n",
        "\n",
        "# Attiva il server\n",
        "server.activate()"
      ]
    }
  ]
}