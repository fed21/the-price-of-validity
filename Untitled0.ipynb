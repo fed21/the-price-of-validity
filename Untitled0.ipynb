{
  "nbformat": 4,
  "nbformat_minor": 0,
  "metadata": {
    "colab": {
      "provenance": []
    },
    "kernelspec": {
      "name": "python3",
      "display_name": "Python 3"
    },
    "language_info": {
      "name": "python"
    }
  },
  "cells": [
    {
      "cell_type": "markdown",
      "source": [
        "---"
      ],
      "metadata": {
        "id": "HZxbWDfJXlOp"
      }
    },
    {
      "cell_type": "code",
      "source": [
        "import random\n",
        "import threading\n",
        "import pika\n",
        "\n",
        "# FLAJOLET-MARTIN\n",
        "def FM(self):\n",
        "  # TBD\n",
        "  print('this is fm')\n",
        "\n",
        "class Server:\n",
        "    def __init__(self, server_id, neighbors, return_node,timer_delta):\n",
        "        self.id = server_id\n",
        "        self.val = random.randint(1, 100)\n",
        "        self.neighbors = neighbors\n",
        "        self.return_node = None\n",
        "        self.num_vectors = 8\n",
        "        self.vector_size = 16\n",
        "        self.vectors = self.generate_vectors()\n",
        "        self.active = False\n",
        "        self.timers = {}  # Dictionary to store timers for each neighbor\n",
        "        self.connections = {}  # Dictionary to store RabbitMQ connections for each neighbor\n",
        "        self.timer_delta = timer_delta\n",
        "\n",
        "        # Establish connections and declare queues for each neighbor\n",
        "        for neighbor in self.neighbors:\n",
        "            self.connections[neighbor] = pika.BlockingConnection(pika.ConnectionParameters('localhost'))\n",
        "            channel = self.connections[neighbor].channel()\n",
        "            channel.queue_declare(queue=neighbor)\n",
        "\n",
        "    def generate_vectors(self):\n",
        "        vectors = []\n",
        "        for _ in range(self.num_vectors):\n",
        "            vector = [random.randint(0, 1) for _ in range(self.vector_size)]\n",
        "            vectors.append(vector)\n",
        "        return vectors\n",
        "\n",
        "    def activate(self):\n",
        "        self.active = True\n",
        "\n",
        "    def deactivate(self):\n",
        "        self.active = False\n",
        "\n",
        "    def process_message(self, ch, method, properties, body):\n",
        "      # # Se ho già ricevuto il messaggio\n",
        "      # if self.timer != None:\n",
        "      if body == 'start':\n",
        "        for node_dest in self.neighbors:\n",
        "          self.send_message('broadcast', self.val, node_dest)\n",
        "        self.activate()\n",
        "        self.start_timer()\n",
        "      else:\n",
        "        # Logic for processing the received message\n",
        "        message_parts = body.decode().split('-')\n",
        "\n",
        "        # Extract message components\n",
        "        message_type = message_parts[0]\n",
        "        value = message_parts[1]\n",
        "        sender = message_parts[2]\n",
        "\n",
        "        if message_type == 'broadcast':\n",
        "            if not self.active:\n",
        "                self.return_node = sender\n",
        "                for node_dest in self.neighbors:\n",
        "                    self.send_message('broadcast', self.val, node_dest)\n",
        "                self.activate()\n",
        "                self.send_message('convergecast', self.val, self.return_node)\n",
        "        else:\n",
        "            # self.val = self.val || value  # Operation to be performed\n",
        "            ### OPERAZIONE DI OR TRA VETTORI\n",
        "            self.vectors = [[bit1 | bit2 for bit1, bit2 in zip(sublist1, sublist2)] for sublist1, sublist2 in zip(self.vectors, value)]\n",
        "            if self.return_node != None:\n",
        "              self.send_message('convergecast', self.val, self.return_node)\n",
        "\n",
        "    def send_message(self, message_type, value, destination):\n",
        "        message = f\"{message_type}-{value}-{self.id}\"\n",
        "        channel = self.connections[destination].channel()\n",
        "        channel.basic_publish(\n",
        "            exchange='',\n",
        "            routing_key=destination,\n",
        "            body=message\n",
        "        )\n",
        "        print(f\"Server {self.id} sent message to {destination}: {message}\")\n",
        "\n",
        "    def start_timer(self):\n",
        "        if self.timer:\n",
        "            self.timer.cancel()  # Cancel previous timer if exists\n",
        "        self.timer = threading.Timer(self.timer_delta, self.return_value)\n",
        "        self.timer.start()\n",
        "\n",
        "    def return_value(self, neighbor):\n",
        "        ### Timer expired\n",
        "        if self.return_node==None:\n",
        "          ### ritorno numero di valori\n",
        "          FM(self.vectors)\n",
        "\n",
        "\n",
        "    def close_connections(self):\n",
        "        for connection in self.connections.values():\n",
        "            connection.close()"
      ],
      "metadata": {
        "id": "nBiEl5nMXkb8"
      },
      "execution_count": null,
      "outputs": []
    },
    {
      "cell_type": "markdown",
      "source": [
        "---\n",
        "FM"
      ],
      "metadata": {
        "id": "dDz-U0ABcgi9"
      }
    },
    {
      "cell_type": "code",
      "source": [
        "import random\n",
        "import math\n",
        "import numpy as np\n",
        "\n",
        "class DistributedFlajoletMartin:\n",
        "    def __init__(self, c, v_size):\n",
        "        self.c = c\n",
        "        self.v_size = v_size\n",
        "        self.bits = [[0] * v_size for _ in range(c)]\n",
        "        self.partial_aggregate = [[0] * v_size for _ in range(c)]\n",
        "        self.external_partial_aggregate = self.generate_random_binary_vector(self.v_size, self.c)\n",
        "\n",
        "    def generate_random_binary_vector(self, dim, x):\n",
        "        return np.random.randint(0, 2, size=(dim, x))\n",
        "\n",
        "    def simulate_coin_toss(self,vs,e,i):\n",
        "        coin_toss_sequence = []\n",
        "        x = random.random()\n",
        "        while x < 0.5 and len(coin_toss_sequence)<vs-1:\n",
        "            coin_toss_sequence.append(0)\n",
        "            x = random.random()\n",
        "        coin_toss_sequence.append(1)\n",
        "        # print(coin_toss_sequence,e,i)\n",
        "        return coin_toss_sequence\n",
        "\n",
        "    def set_bit(self, sequence, function_index):\n",
        "        bit_position = self.count_leading_zeros(sequence) # index of last tail\n",
        "        self.bits[function_index][bit_position] = 1\n",
        "\n",
        "    def process_set(self, input_set, host_index):\n",
        "        for element in input_set:\n",
        "            for i in range(self.c):\n",
        "                coin_toss_sequence = self.simulate_coin_toss(self.v_size,element,i)\n",
        "                self.set_bit(coin_toss_sequence, i)\n",
        "\n",
        "        self.partial_aggregate = self.bits\n",
        "\n",
        "    def convergecast(self):\n",
        "        print(self.partial_aggregate[0])\n",
        "        for i in range(self.c):\n",
        "            self.partial_aggregate[i] = self.partial_aggregate[i]\n",
        "\n",
        "    def estimate_distinct_elements(self):\n",
        "        leading_zeros = []\n",
        "        for i in range(self.c):\n",
        "            bit_vector = self.partial_aggregate[i]\n",
        "            max_zero_position = self.count_leading_zeros(bit_vector)\n",
        "            print(max_zero_position)\n",
        "            leading_zeros.append(max_zero_position)\n",
        "        print(\"prova_lz\",leading_zeros)\n",
        "        average_zero_position = max(leading_zeros)\n",
        "        estimated_distinct_elements = 2 ** average_zero_position / 0.78\n",
        "        return estimated_distinct_elements\n",
        "\n",
        "    def count_leading_zeros(self, binary_vector):\n",
        "        count = 0\n",
        "        for bit in binary_vector:\n",
        "            if str(bit) == \"0\":\n",
        "                count += 1\n",
        "            else:\n",
        "                break\n",
        "        return count"
      ],
      "metadata": {
        "id": "AGb19mLjcjVr"
      },
      "execution_count": null,
      "outputs": []
    },
    {
      "cell_type": "markdown",
      "source": [
        "---"
      ],
      "metadata": {
        "id": "snZTFemCcfze"
      }
    },
    {
      "cell_type": "code",
      "source": [
        "import threading\n",
        "import time"
      ],
      "metadata": {
        "id": "uoTvU2wJzeGD"
      },
      "execution_count": 5,
      "outputs": []
    },
    {
      "cell_type": "code",
      "source": [
        "def provina():\n",
        "  print('hello1')\n",
        "\n",
        "def prova():\n",
        "  global i\n",
        "  i = 0\n",
        "  print('hello')\n",
        "  provina()\n",
        "\n",
        "i=2\n",
        "x = threading.Timer(5,prova)\n",
        "x.start()\n",
        "while i!=0:\n",
        "  print(i)\n",
        "  time.sleep(1)\n",
        "  j = 1"
      ],
      "metadata": {
        "colab": {
          "base_uri": "https://localhost:8080/"
        },
        "id": "hA01MQBvzevb",
        "outputId": "f60473ed-3876-418b-e77f-57cd3133ee08"
      },
      "execution_count": 6,
      "outputs": [
        {
          "output_type": "stream",
          "name": "stdout",
          "text": [
            "2\n",
            "2\n",
            "2\n",
            "2\n",
            "2\n",
            "hello\n",
            "hello1\n"
          ]
        }
      ]
    }
  ]
}